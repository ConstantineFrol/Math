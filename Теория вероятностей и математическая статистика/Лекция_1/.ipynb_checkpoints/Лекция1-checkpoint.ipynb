{
 "cells": [
  {
   "cell_type": "markdown",
   "id": "16d40995",
   "metadata": {},
   "source": [
    "# Урок 1\n",
    "## Случайные события. Вероятность события. Условная вероятность. Формула Байеса"
   ]
  },
  {
   "cell_type": "code",
   "execution_count": 1,
   "id": "ceb93bf1",
   "metadata": {},
   "outputs": [],
   "source": [
    "import numpy as np\n",
    "\n",
    "def combinations(n: int, k: int) -> int:\n",
    "    \"\"\"Число сочетаний.\n",
    "    \"\"\"\n",
    "    \n",
    "    return np.math.factorial(n) // (np.math.factorial(k) * np.math.factorial(n - k))"
   ]
  },
  {
   "cell_type": "markdown",
   "id": "9c0cdfe4",
   "metadata": {},
   "source": [
    "Задача 1\n",
    "\n",
    "Имеется колода в 52 карты. Найти число возможностей вытянуть из неё 4 карты так, чтобы среди них был хотя бы один туз."
   ]
  },
  {
   "cell_type": "code",
   "execution_count": 2,
   "id": "05ceee00",
   "metadata": {},
   "outputs": [
    {
     "data": {
      "text/plain": [
       "76145"
      ]
     },
     "execution_count": 2,
     "metadata": {},
     "output_type": "execute_result"
    }
   ],
   "source": [
    "combinations(52, 4) - combinations(48, 4)"
   ]
  },
  {
   "cell_type": "markdown",
   "id": "9ea42fa0",
   "metadata": {},
   "source": [
    "Задачи 2\n",
    "\n",
    "Из 60 вопросов, входящих в экзаменационные билеты, студент знает 50. Случайным образом студент вытягивает 3 вопроса. Какова вероятность, что все выбранные вопросы знакомы студенту?"
   ]
  },
  {
   "cell_type": "code",
   "execution_count": 5,
   "id": "0fec0823",
   "metadata": {},
   "outputs": [
    {
     "data": {
      "text/plain": [
       "0.5727644652250146"
      ]
     },
     "execution_count": 5,
     "metadata": {},
     "output_type": "execute_result"
    }
   ],
   "source": [
    "combinations(50, 3) / combinations(60, 3)"
   ]
  },
  {
   "cell_type": "markdown",
   "id": "86061578",
   "metadata": {},
   "source": [
    "Задачи 3\n",
    "\n",
    "Какова вероятность что два из трёх вопросов знакомы студенту?"
   ]
  },
  {
   "cell_type": "code",
   "execution_count": 13,
   "id": "e62b74af",
   "metadata": {},
   "outputs": [
    {
     "data": {
      "text/plain": [
       "0.35797779076563413"
      ]
     },
     "execution_count": 13,
     "metadata": {},
     "output_type": "execute_result"
    }
   ],
   "source": [
    "combinations(50, 2) * combinations(10, 1) / combinations(60, 3)"
   ]
  },
  {
   "cell_type": "markdown",
   "id": "dadd7887",
   "metadata": {},
   "source": [
    "Задача 4\n",
    "\n",
    "Допустим, имеется некоторая очень редкая болезнь (поражает 0.1% населения). Вы приходите к врачу, вам делают тест на эту болезнь, и тест оказывается положительным. Врач говорит вам, что этот тест верно выявляет 99% больных этой болезнью и всего лишь в 1% случаев даёт ложный положительный ответ.\n",
    "\n",
    "Вопрос: какова вероятность, что вы действительно больны ей?\n",
    "\n",
    "Подсказка: используйте формулу Байеса с раскрытием знаменателя с помощью формулы полной вероятности."
   ]
  },
  {
   "cell_type": "code",
   "execution_count": 15,
   "id": "17f02826",
   "metadata": {},
   "outputs": [
    {
     "data": {
      "text/plain": [
       "0.09016393442622951"
      ]
     },
     "execution_count": 15,
     "metadata": {},
     "output_type": "execute_result"
    }
   ],
   "source": [
    "P_b = 0.001 * 0.99 + 0.999 * 0.01\n",
    "0.001 * 0.99 / P_b"
   ]
  },
  {
   "cell_type": "code",
   "execution_count": null,
   "id": "5f9e5fbc",
   "metadata": {},
   "outputs": [],
   "source": []
  }
 ],
 "metadata": {
  "kernelspec": {
   "display_name": "Python 3 (ipykernel)",
   "language": "python",
   "name": "python3"
  },
  "language_info": {
   "codemirror_mode": {
    "name": "ipython",
    "version": 3
   },
   "file_extension": ".py",
   "mimetype": "text/x-python",
   "name": "python",
   "nbconvert_exporter": "python",
   "pygments_lexer": "ipython3",
   "version": "3.9.2"
  }
 },
 "nbformat": 4,
 "nbformat_minor": 5
}
