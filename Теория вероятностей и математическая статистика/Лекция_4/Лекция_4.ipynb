{
 "cells": [
  {
   "cell_type": "markdown",
   "id": "ebd14846",
   "metadata": {},
   "source": [
    "# Непрерывные случайные величины. Функция распределения и функция плотности. Нормальное распределение. Центральная предельная теорема"
   ]
  },
  {
   "cell_type": "code",
   "execution_count": 10,
   "id": "72c2823f",
   "metadata": {},
   "outputs": [],
   "source": [
    "from scipy import integrate\n",
    "from math import pi\n",
    "from math import exp\n",
    "from math import sqrt"
   ]
  },
  {
   "cell_type": "markdown",
   "id": "c12d8ad8",
   "metadata": {},
   "source": [
    "#### 1. Случайная непрерывная величина A имеет равномерное распределение на промежутке (200, 800]. Найдите ее среднее значение и дисперсию.\n"
   ]
  },
  {
   "cell_type": "code",
   "execution_count": 1,
   "id": "97bdaa2b",
   "metadata": {},
   "outputs": [],
   "source": [
    "a = 200\n",
    "b = 800"
   ]
  },
  {
   "cell_type": "code",
   "execution_count": 2,
   "id": "8ccdce2d",
   "metadata": {},
   "outputs": [
    {
     "name": "stdout",
     "output_type": "stream",
     "text": [
      "Среднее значение: 500.0\n",
      "Дисперсия: 30000.0\n"
     ]
    }
   ],
   "source": [
    "m = (a + b) / 2\n",
    "d = (b - a)**2 / 12\n",
    "print(f\"Среднее значение: {m}\")\n",
    "print(f\"Дисперсия: {d}\")"
   ]
  },
  {
   "cell_type": "markdown",
   "id": "b6242231",
   "metadata": {},
   "source": [
    "#### 2. О случайной непрерывной равномерно распределенной величине B известно, что ее дисперсия равна 0.2. Можно ли найти правую границу величины B и ее среднее значение зная, что левая граница равна 0.5? Если да, найдите ее.\n"
   ]
  },
  {
   "cell_type": "markdown",
   "id": "14a1952d",
   "metadata": {},
   "source": [
    "Зная формулу диспресии для равномерно распределенной случайной величины можно вычислить правую границу (a), зная ее диспрерсию и левую границу (b):\n",
    "##### d = (b - a)**2 / 12"
   ]
  },
  {
   "cell_type": "code",
   "execution_count": 19,
   "id": "70c2624a",
   "metadata": {},
   "outputs": [],
   "source": [
    "d = 0.2\n",
    "b = 0.5"
   ]
  },
  {
   "cell_type": "markdown",
   "id": "a093bdd4",
   "metadata": {},
   "source": [
    "Считаем уравнение: (0.2 = (0.5 - a)^2)/12 (Решение пропустим....) и получаем 2 корня:"
   ]
  },
  {
   "cell_type": "code",
   "execution_count": 20,
   "id": "6d1e8ec3",
   "metadata": {},
   "outputs": [],
   "source": [
    "a1 = -1.05\n",
    "a2 = 2.05"
   ]
  },
  {
   "cell_type": "markdown",
   "id": "aac40b62",
   "metadata": {},
   "source": [
    "В результате решения квадратного уравнения получается, один из которых отрицательный и не подходит на роль правой границы, т.к. правая граница должна быть больше левой."
   ]
  },
  {
   "cell_type": "code",
   "execution_count": 22,
   "id": "8b4714b1",
   "metadata": {},
   "outputs": [
    {
     "name": "stdout",
     "output_type": "stream",
     "text": [
      "Правая граница 2.05, Среднее значение 1.275\n"
     ]
    }
   ],
   "source": [
    "m = (b + a2) / 2\n",
    "print(f\"Правая граница {a2}, Среднее значение {m}\")"
   ]
  },
  {
   "cell_type": "markdown",
   "id": "01115398",
   "metadata": {},
   "source": [
    "#### 3. Непрерывная случайная величина X распределена нормально и задана плотностью распределения f(x) = (1 / (4 * sqrt(2*pi))) * (exp(-(x+2)**2) / 32). Найдите: а). M(X) б). D(X) в). std(X) (среднее квадратичное отклонение)\n"
   ]
  },
  {
   "cell_type": "code",
   "execution_count": 23,
   "id": "d22fb956",
   "metadata": {},
   "outputs": [
    {
     "name": "stdout",
     "output_type": "stream",
     "text": [
      "D(X):16, М(X):-2, std(X):4\n"
     ]
    }
   ],
   "source": [
    "#Из сопоставления функции плотности выводится легко. \n",
    "d = 16\n",
    "m = -2\n",
    "std = 4\n",
    "print(f\"D(X):{d}, М(X):{m}, std(X):{std}\")"
   ]
  },
  {
   "cell_type": "markdown",
   "id": "d967e07e",
   "metadata": {},
   "source": [
    "#### 4. Рост взрослого населения города X имеет нормальное распределение. Причем, средний рост равен 174 см, а среднее квадратичное отклонение равно 8 см. Какова вероятность того, что случайным образом выбранный взрослый человек имеет рост:\n",
    "\n",
    "а). больше 182 см\n",
    "\n",
    "б). больше 190 см\n",
    "\n",
    "в). от 166 см до 190 см\n",
    "\n",
    "г). от 166 см до 182 см\n",
    "\n",
    "д). от 158 см до 190 см\n",
    "\n",
    "е). не выше 150 см или не ниже 190 см\n",
    "\n",
    "ё). не выше 150 см или не ниже 198 см\n",
    "\n",
    "ж). ниже 166 см.\n"
   ]
  },
  {
   "cell_type": "markdown",
   "id": "cc193867",
   "metadata": {},
   "source": [
    "Для начала необходимо нормировать случайную величину"
   ]
  },
  {
   "cell_type": "code",
   "execution_count": 2,
   "id": "31b3e96c",
   "metadata": {},
   "outputs": [],
   "source": [
    "def Z(x):\n",
    "    return (x - 174) / 8\n",
    "    "
   ]
  },
  {
   "cell_type": "code",
   "execution_count": 20,
   "id": "734636ed",
   "metadata": {},
   "outputs": [
    {
     "name": "stdout",
     "output_type": "stream",
     "text": [
      "z_150:-3.0\n",
      "z_158:-2.0\n",
      "z_166:-1.0\n",
      "z_182:1.0\n",
      "z_190:2.0\n",
      "z_198:3.0\n"
     ]
    }
   ],
   "source": [
    "z_150 = Z(150)\n",
    "print(f\"z_150:{z_150}\")\n",
    "z_158 = Z(158)\n",
    "print(f\"z_158:{z_158}\")\n",
    "z_166 = Z(166)\n",
    "print(f\"z_166:{z_166}\")\n",
    "z_182 = Z(182)\n",
    "print(f\"z_182:{z_182}\")\n",
    "z_190 = Z(190)\n",
    "print(f\"z_190:{z_190}\")\n",
    "z_198 = Z(198)\n",
    "print(F\"z_198:{z_198}\")"
   ]
  },
  {
   "cell_type": "markdown",
   "id": "f85b8dc7",
   "metadata": {},
   "source": [
    "Подберем вероятности по таблице Z-значений"
   ]
  },
  {
   "cell_type": "markdown",
   "id": "5ad5d7fc",
   "metadata": {},
   "source": [
    "а). больше 182 см"
   ]
  },
  {
   "cell_type": "code",
   "execution_count": 29,
   "id": "8e8a5664",
   "metadata": {},
   "outputs": [
    {
     "name": "stdout",
     "output_type": "stream",
     "text": [
      "P(>182): 15.866%\n"
     ]
    }
   ],
   "source": [
    "p_182 = 0.15866 * 100\n",
    "print(f\"P(>182): {p_182}%\")"
   ]
  },
  {
   "cell_type": "markdown",
   "id": "21379e59",
   "metadata": {},
   "source": [
    "б). больше 190 см"
   ]
  },
  {
   "cell_type": "code",
   "execution_count": 22,
   "id": "4ad575b5",
   "metadata": {},
   "outputs": [
    {
     "name": "stdout",
     "output_type": "stream",
     "text": [
      "P(>190): 2.275%\n"
     ]
    }
   ],
   "source": [
    "p_190 = 0.02275 * 100\n",
    "print(f\"P(>190): {p_190}%\")"
   ]
  },
  {
   "cell_type": "markdown",
   "id": "f2e23cdc",
   "metadata": {},
   "source": [
    "в). от 166 см до 190 см"
   ]
  },
  {
   "cell_type": "code",
   "execution_count": 23,
   "id": "98aa264d",
   "metadata": {},
   "outputs": [
    {
     "name": "stdout",
     "output_type": "stream",
     "text": [
      "P(166<x<190): 81.85%\n"
     ]
    }
   ],
   "source": [
    "p_166 = 0.1587 * 100\n",
    "p_190 = 0.9772 * 100\n",
    "print(f\"P(166<x<190): {p_190 - p_166}%\")"
   ]
  },
  {
   "cell_type": "markdown",
   "id": "55495f6f",
   "metadata": {},
   "source": [
    "г). от 166 см до 182 см"
   ]
  },
  {
   "cell_type": "code",
   "execution_count": 24,
   "id": "8b382020",
   "metadata": {},
   "outputs": [
    {
     "name": "stdout",
     "output_type": "stream",
     "text": [
      "P(166<x<182): 68.26%\n"
     ]
    }
   ],
   "source": [
    "p_166 = 0.1587 * 100\n",
    "p_182 = 0.8413 * 100\n",
    "print(f\"P(166<x<182): {p_182 - p_166}%\")"
   ]
  },
  {
   "cell_type": "markdown",
   "id": "ace2a9d8",
   "metadata": {},
   "source": [
    "д). от 158 см до 190 см"
   ]
  },
  {
   "cell_type": "code",
   "execution_count": 31,
   "id": "9964e234",
   "metadata": {},
   "outputs": [
    {
     "name": "stdout",
     "output_type": "stream",
     "text": [
      "P(158<x<190): 95.44%\n"
     ]
    }
   ],
   "source": [
    "p_158 = 0.0228 * 100\n",
    "p_190 = 0.9772 * 100\n",
    "print(f\"P(158<x<190): {p_190 - p_158}%\")"
   ]
  },
  {
   "cell_type": "markdown",
   "id": "33df493f",
   "metadata": {},
   "source": [
    "е). не выше 150 см или не ниже 190 см"
   ]
  },
  {
   "cell_type": "code",
   "execution_count": 33,
   "id": "473b91d0",
   "metadata": {},
   "outputs": [
    {
     "name": "stdout",
     "output_type": "stream",
     "text": [
      "P(150<x || x > 190): 2.405%\n"
     ]
    }
   ],
   "source": [
    "p_150= 0.0013 * 100\n",
    "p_190 = 0.02275 * 100\n",
    "print(f\"P(150<x || x > 190): { p_150 + p_190}%\")"
   ]
  },
  {
   "cell_type": "markdown",
   "id": "98dcdca1",
   "metadata": {},
   "source": [
    "ё). не выше 150 см или не ниже 198 см"
   ]
  },
  {
   "cell_type": "code",
   "execution_count": 34,
   "id": "75ca8b96",
   "metadata": {},
   "outputs": [
    {
     "name": "stdout",
     "output_type": "stream",
     "text": [
      "P(150<x || x > 198): 0.265%\n"
     ]
    }
   ],
   "source": [
    "p_150= 0.0013 * 100\n",
    "p_198 = 0.00135 * 100\n",
    "print(f\"P(150<x || x > 198): {p_150 + p_198}%\")"
   ]
  },
  {
   "cell_type": "markdown",
   "id": "493e16d4",
   "metadata": {},
   "source": [
    "ж). ниже 166 см."
   ]
  },
  {
   "cell_type": "code",
   "execution_count": 28,
   "id": "59e3e70a",
   "metadata": {},
   "outputs": [
    {
     "name": "stdout",
     "output_type": "stream",
     "text": [
      "P(<166): 15.870000000000001%\n"
     ]
    }
   ],
   "source": [
    "p_166 = 0.1587 * 100\n",
    "print(f\"P(<166): {p_166}%\")"
   ]
  },
  {
   "cell_type": "markdown",
   "id": "e3b152d8",
   "metadata": {},
   "source": [
    "#### 5. На сколько сигм (средних квадратичных отклонений) отклоняется рост человека, равный 190 см, от математического ожидания роста в популяции, в которой M(X) = 178 см и D(X) = 25 кв.см?\n"
   ]
  },
  {
   "cell_type": "code",
   "execution_count": 5,
   "id": "d73fd206",
   "metadata": {},
   "outputs": [],
   "source": [
    "m = 178\n",
    "d = 25\n",
    "x = 190"
   ]
  },
  {
   "cell_type": "code",
   "execution_count": 7,
   "id": "89e5cf35",
   "metadata": {},
   "outputs": [
    {
     "name": "stdout",
     "output_type": "stream",
     "text": [
      "Рост человека 190см ,будет отклонятся от роста 178см на 2.4 сигмы\n"
     ]
    }
   ],
   "source": [
    "z = (x - m) / d**(1/2)\n",
    "print(f\"Рост человека {x}см ,будет отклонятся от роста {m}см на {z} сигмы\")"
   ]
  },
  {
   "cell_type": "code",
   "execution_count": null,
   "id": "5f4514eb",
   "metadata": {},
   "outputs": [],
   "source": []
  }
 ],
 "metadata": {
  "kernelspec": {
   "display_name": "Python 3 (ipykernel)",
   "language": "python",
   "name": "python3"
  },
  "language_info": {
   "codemirror_mode": {
    "name": "ipython",
    "version": 3
   },
   "file_extension": ".py",
   "mimetype": "text/x-python",
   "name": "python",
   "nbconvert_exporter": "python",
   "pygments_lexer": "ipython3",
   "version": "3.9.2"
  }
 },
 "nbformat": 4,
 "nbformat_minor": 5
}
