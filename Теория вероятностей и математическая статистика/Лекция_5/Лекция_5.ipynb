{
 "cells": [
  {
   "cell_type": "markdown",
   "id": "ebd14846",
   "metadata": {},
   "source": [
    "#  Проверка статистических гипотез. P-значения. Доверительные интервалы"
   ]
  },
  {
   "cell_type": "code",
   "execution_count": 52,
   "id": "cf6f67a9",
   "metadata": {},
   "outputs": [],
   "source": [
    "import scipy.stats as st\n",
    "from math import sqrt \n",
    "import numpy as np"
   ]
  },
  {
   "cell_type": "markdown",
   "id": "308e5d0f",
   "metadata": {},
   "source": [
    "1) Известно, что генеральная совокупность распределена нормально с известным средним квадратическим отклонением 16. Найти ширину доверительного интервала для оценки математического ожидания `mu` с надёжностью 0.95, если выборочное среднее равно 80, а объём выборки равен 256."
   ]
  },
  {
   "cell_type": "code",
   "execution_count": 16,
   "id": "69e11284",
   "metadata": {},
   "outputs": [],
   "source": [
    "def get_confidence_interval(p, std, x, n):\n",
    "    a = (1 - p) / 2\n",
    "    z = st.norm.ppf(a)\n",
    "    \n",
    "    return [x + z * (std / sqrt(n)), x - z * (std / sqrt(n))]"
   ]
  },
  {
   "cell_type": "code",
   "execution_count": 18,
   "id": "fb8a11c2",
   "metadata": {},
   "outputs": [
    {
     "data": {
      "text/plain": [
       "3.9199279690801063"
      ]
     },
     "execution_count": 18,
     "metadata": {},
     "output_type": "execute_result"
    }
   ],
   "source": [
    "std = 16\n",
    "p = 0.95\n",
    "x = 80\n",
    "n = 256\n",
    "\n",
    "interval = get_confidence_interval(p, std, m, n)\n",
    "width = interval[1] - interval[0]\n",
    "width"
   ]
  },
  {
   "cell_type": "markdown",
   "id": "ffaf3600",
   "metadata": {},
   "source": [
    "2) Продавец утверждает, что средний вес пачки печенья составляет 200 г. Из партии извлечена выборка из 10 пачек. Вес каждой пачки составляет:\n",
    "```\n",
    "202, 203, 199, 197, 195, 201, 200, 204, 194, 190\n",
    "```\n",
    "Известно, что их веса распределены нормально. Верно ли утверждение продавца, если учитывать, что уровень значимости равен 1%? Найдите P-значение для данного теста и укажите его в качестве ответа."
   ]
  },
  {
   "cell_type": "code",
   "execution_count": 64,
   "id": "0c7a62f3",
   "metadata": {},
   "outputs": [
    {
     "name": "stdout",
     "output_type": "stream",
     "text": [
      "Среднее арифметичесое по выборке 198.5\n",
      "Степень свободы 9\n",
      "t-табличное: 3.25\n"
     ]
    }
   ],
   "source": [
    "m_0 = 200\n",
    "X = np.array([202, 203, 199, 197, 195, 201, 200, 204, 194, 190])\n",
    "alpha = 0.01\n",
    "n = len(X)\n",
    "mean = X.mean()\n",
    "std = X.std(ddof=1)\n",
    "print(f\"Среднее арифметичесое по выборке {mean}\")\n",
    "print(f\"Степень свободы {df}\")\n",
    "\n",
    "t_t = 3.250\n",
    "print(f\"t-табличное: {t_t}\")"
   ]
  },
  {
   "cell_type": "code",
   "execution_count": 65,
   "id": "30f9246a",
   "metadata": {},
   "outputs": [
    {
     "name": "stdout",
     "output_type": "stream",
     "text": [
      "t-расчетное: -1.0651074037450896\n"
     ]
    }
   ],
   "source": [
    "t = (mean - m_0) / (std / sqrt(n))\n",
    "print(f\"t-расчетное: {t}\")"
   ]
  },
  {
   "cell_type": "code",
   "execution_count": null,
   "id": "b3bb06f3",
   "metadata": {},
   "outputs": [],
   "source": [
    "Принимаем H0 на основании того что t-расчетное входит в интервал."
   ]
  },
  {
   "cell_type": "code",
   "execution_count": 71,
   "id": "fba87bec",
   "metadata": {},
   "outputs": [
    {
     "name": "stdout",
     "output_type": "stream",
     "text": [
      "P-value=0.28913999999999995, а это значит то что нулевая гипотеза верна, потому что p-val(0.28913999999999995) > alpha(0.01)\n"
     ]
    }
   ],
   "source": [
    "v = 0.85656\n",
    "P = 2 * (1 - v)\n",
    "print(f\"P-value={P}, а это значит то что нулевая гипотеза верна, потому что p-val({P}) > alpha({alpha})\")"
   ]
  },
  {
   "cell_type": "markdown",
   "id": "0fda4493",
   "metadata": {},
   "source": [
    "3) Дана выборка диаметров подшипников из примера 1 с занятия 5:\n",
    "```\n",
    "samples = [0.6603, 0.9466, 0.5968, 1.3792, 1.5481, 0.7515, 1.0681, 1.1134,\n",
    "           1.2088, 1.701 , 1.0282, 1.3579, 1.0191, 1.1784, 1.1168, 1.1372,\n",
    "           0.7273, 1.3958, 0.8665, 1.5112, 1.161 , 1.0232, 1.0865, 1.02  ]\n",
    "```\n",
    "Предполагая, что диаметры подшипников распределены нормально, проверьте гипотезу о том, что дисперсия случайной величины равна `0.0625` при уровне значимости `alpha = 0.05`. Что для этого нужно знать:\n",
    "1. Альтернативная гипотеза двухсторонняя.\n",
    "2. Статистика для теста: `H = (n - 1) * sample_variance / variance`, где `n` - число элементов в выборке, `sample_variance` - несмещённая оценка дисперсии, `variance` - утверждаемая нулевой гипотезой дисперсия.\n",
    "3. Эта статистика в предположении верности нулевой гипотезы имеет распределение хи-квадрат с параметром `df = n - 1`. Её квантили можно найти с помощью функции `scipy.stats.chi2.ppf`.\n",
    "\n",
    "В качестве ответа запишите 1, если нулевая гипотеза верна, и 0 иначе."
   ]
  },
  {
   "cell_type": "markdown",
   "id": "71693d25",
   "metadata": {},
   "source": [
    "ПОка что не разобрался =("
   ]
  },
  {
   "cell_type": "code",
   "execution_count": null,
   "id": "9bd5b95e",
   "metadata": {},
   "outputs": [],
   "source": []
  }
 ],
 "metadata": {
  "kernelspec": {
   "display_name": "Python 3 (ipykernel)",
   "language": "python",
   "name": "python3"
  },
  "language_info": {
   "codemirror_mode": {
    "name": "ipython",
    "version": 3
   },
   "file_extension": ".py",
   "mimetype": "text/x-python",
   "name": "python",
   "nbconvert_exporter": "python",
   "pygments_lexer": "ipython3",
   "version": "3.9.2"
  }
 },
 "nbformat": 4,
 "nbformat_minor": 5
}
