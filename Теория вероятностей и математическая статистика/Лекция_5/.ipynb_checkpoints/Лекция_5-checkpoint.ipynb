{
 "cells": [
  {
   "cell_type": "markdown",
   "id": "ebd14846",
   "metadata": {},
   "source": [
    "#  Проверка статистических гипотез. P-значения. Доверительные интервалы"
   ]
  },
  {
   "cell_type": "code",
   "execution_count": 89,
   "id": "0ae7b582",
   "metadata": {},
   "outputs": [],
   "source": [
    "import scipy.stats as st\n",
    "from math import sqrt \n",
    "import numpy as np"
   ]
  },
  {
   "cell_type": "markdown",
   "id": "1151a088",
   "metadata": {},
   "source": [
    "1) Известно, что генеральная совокупность распределена нормально с известным средним квадратическим отклонением 16. Найти ширину доверительного интервала для оценки математического ожидания `mu` с надёжностью 0.95, если выборочное среднее равно 80, а объём выборки равен 256."
   ]
  },
  {
   "cell_type": "code",
   "execution_count": 90,
   "id": "90d17c7f",
   "metadata": {},
   "outputs": [],
   "source": [
    "def get_confidence_interval(p, std, x, n):\n",
    "    a = (1 - p) / 2\n",
    "    z = st.norm.ppf(a)\n",
    "    \n",
    "    return [x + z * (std / sqrt(n)), x - z * (std / sqrt(n))]"
   ]
  },
  {
   "cell_type": "code",
   "execution_count": 91,
   "id": "f3b81843",
   "metadata": {},
   "outputs": [
    {
     "data": {
      "text/plain": [
       "3.9199279690801063"
      ]
     },
     "execution_count": 91,
     "metadata": {},
     "output_type": "execute_result"
    }
   ],
   "source": [
    "std = 16\n",
    "p = 0.95\n",
    "x = 80\n",
    "n = 256\n",
    "\n",
    "interval = get_confidence_interval(p, std, m, n)\n",
    "width = interval[1] - interval[0]\n",
    "width"
   ]
  },
  {
   "cell_type": "markdown",
   "id": "5813f182",
   "metadata": {},
   "source": [
    "2) Продавец утверждает, что средний вес пачки печенья составляет 200 г. Из партии извлечена выборка из 10 пачек. Вес каждой пачки составляет:\n",
    "```\n",
    "202, 203, 199, 197, 195, 201, 200, 204, 194, 190\n",
    "```\n",
    "Известно, что их веса распределены нормально. Верно ли утверждение продавца, если учитывать, что уровень значимости равен 1%? Найдите P-значение для данного теста и укажите его в качестве ответа."
   ]
  },
  {
   "cell_type": "code",
   "execution_count": 92,
   "id": "64fa8016",
   "metadata": {},
   "outputs": [
    {
     "name": "stdout",
     "output_type": "stream",
     "text": [
      "t-табличное: 3.25\n"
     ]
    }
   ],
   "source": [
    "m_0 = 200\n",
    "X = np.array([202, 203, 199, 197, 195, 201, 200, 204, 194, 190])\n",
    "alpha = 0.01\n",
    "n = len(X)\n",
    "mean = X.mean()\n",
    "std = X.std(ddof=1)\n",
    "\n",
    "t_t = 3.250\n",
    "print(f\"t-табличное: {t_t}\")"
   ]
  },
  {
   "cell_type": "code",
   "execution_count": 93,
   "id": "ee5e791e",
   "metadata": {},
   "outputs": [
    {
     "name": "stdout",
     "output_type": "stream",
     "text": [
      "t-расчетное: -1.0651074037450896\n"
     ]
    }
   ],
   "source": [
    "t = (mean - m_0) / (std / sqrt(n))\n",
    "print(f\"t-расчетное: {t}\")"
   ]
  },
  {
   "cell_type": "markdown",
   "id": "b916e158",
   "metadata": {},
   "source": [
    "Находим критическую область"
   ]
  },
  {
   "cell_type": "code",
   "execution_count": 94,
   "id": "5e0f963d",
   "metadata": {},
   "outputs": [
    {
     "data": {
      "text/plain": [
       "(-3.2498355440153697, 3.2498355440153697)"
      ]
     },
     "execution_count": 94,
     "metadata": {},
     "output_type": "execute_result"
    }
   ],
   "source": [
    "t1 = st.t.ppf(alpha / 2, df=n - 1)\n",
    "t2 = st.t.ppf(1 - alpha / 2, df=n - 1)\n",
    "\n",
    "t1, t2"
   ]
  },
  {
   "cell_type": "markdown",
   "id": "b048b667",
   "metadata": {},
   "source": [
    "Принимаем нулевую гипотезу, т.к наше t-расчетное не попадает в критическую область область."
   ]
  },
  {
   "cell_type": "code",
   "execution_count": 95,
   "id": "e5442690",
   "metadata": {},
   "outputs": [
    {
     "name": "stdout",
     "output_type": "stream",
     "text": [
      "Р-значение: 0.3145666035247285\n"
     ]
    }
   ],
   "source": [
    "p_1 = st.t.cdf(t, df=n - 1)\n",
    "p_2 = 1 - st.t.cdf(t, df=n - 1)\n",
    "p_value = 2 * min(p_1, p_2)\n",
    "\n",
    "print(f'Р-значение: {p_value}')"
   ]
  },
  {
   "cell_type": "markdown",
   "id": "e7739c47",
   "metadata": {},
   "source": [
    "3) Дана выборка диаметров подшипников из примера 1 с занятия 5:\n",
    "```\n",
    "samples = [0.6603, 0.9466, 0.5968, 1.3792, 1.5481, 0.7515, 1.0681, 1.1134,\n",
    "           1.2088, 1.701 , 1.0282, 1.3579, 1.0191, 1.1784, 1.1168, 1.1372,\n",
    "           0.7273, 1.3958, 0.8665, 1.5112, 1.161 , 1.0232, 1.0865, 1.02  ]\n",
    "```\n",
    "Предполагая, что диаметры подшипников распределены нормально, проверьте гипотезу о том, что дисперсия случайной величины равна `0.0625` при уровне значимости `alpha = 0.05`. Что для этого нужно знать:\n",
    "1. Альтернативная гипотеза двухсторонняя.\n",
    "2. Статистика для теста: `H = (n - 1) * sample_variance / variance`, где `n` - число элементов в выборке, `sample_variance` - несмещённая оценка дисперсии, `variance` - утверждаемая нулевой гипотезой дисперсия.\n",
    "3. Эта статистика в предположении верности нулевой гипотезы имеет распределение хи-квадрат с параметром `df = n - 1`. Её квантили можно найти с помощью функции `scipy.stats.chi2.ppf`.\n",
    "\n",
    "В качестве ответа запишите 1, если нулевая гипотеза верна, и 0 иначе."
   ]
  },
  {
   "cell_type": "markdown",
   "id": "a6024a36",
   "metadata": {},
   "source": [
    "ПОка что не разобрался =("
   ]
  },
  {
   "cell_type": "code",
   "execution_count": null,
   "id": "bb64cbcd",
   "metadata": {},
   "outputs": [],
   "source": []
  }
 ],
 "metadata": {
  "kernelspec": {
   "display_name": "Python 3 (ipykernel)",
   "language": "python",
   "name": "python3"
  },
  "language_info": {
   "codemirror_mode": {
    "name": "ipython",
    "version": 3
   },
   "file_extension": ".py",
   "mimetype": "text/x-python",
   "name": "python",
   "nbconvert_exporter": "python",
   "pygments_lexer": "ipython3",
   "version": "3.9.2"
  }
 },
 "nbformat": 4,
 "nbformat_minor": 5
}
