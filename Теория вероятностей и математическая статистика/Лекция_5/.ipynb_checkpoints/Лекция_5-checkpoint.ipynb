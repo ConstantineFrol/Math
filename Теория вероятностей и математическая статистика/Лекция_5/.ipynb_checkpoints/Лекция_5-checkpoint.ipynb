{
 "cells": [
  {
   "cell_type": "markdown",
   "id": "ebd14846",
   "metadata": {},
   "source": [
    "#  Проверка статистических гипотез. P-значения. Доверительные интервалы"
   ]
  },
  {
   "cell_type": "code",
   "execution_count": 23,
   "id": "f03f0abe",
   "metadata": {},
   "outputs": [],
   "source": [
    "import scipy.stats as st\n",
    "from math import sqrt "
   ]
  },
  {
   "cell_type": "markdown",
   "id": "9f94f7f4",
   "metadata": {},
   "source": [
    "1) Известно, что генеральная совокупность распределена нормально с известным средним квадратическим отклонением 16. Найти ширину доверительного интервала для оценки математического ожидания `mu` с надёжностью 0.95, если выборочное среднее равно 80, а объём выборки равен 256."
   ]
  },
  {
   "cell_type": "code",
   "execution_count": 16,
   "id": "2d2fa6cc",
   "metadata": {},
   "outputs": [],
   "source": [
    "def get_confidence_interval(p, std, x, n):\n",
    "    a = (1 - p) / 2\n",
    "    z = st.norm.ppf(a)\n",
    "    \n",
    "    return [x + z * (std / sqrt(n)), x - z * (std / sqrt(n))]"
   ]
  },
  {
   "cell_type": "code",
   "execution_count": 18,
   "id": "2dd9c9ce",
   "metadata": {},
   "outputs": [
    {
     "data": {
      "text/plain": [
       "3.9199279690801063"
      ]
     },
     "execution_count": 18,
     "metadata": {},
     "output_type": "execute_result"
    }
   ],
   "source": [
    "std = 16\n",
    "p = 0.95\n",
    "x = 80\n",
    "n = 256\n",
    "\n",
    "interval = get_confidence_interval(p, std, m, n)\n",
    "width = interval[1] - interval[0]\n",
    "width"
   ]
  },
  {
   "cell_type": "markdown",
   "id": "e6c2c7da",
   "metadata": {},
   "source": [
    "2) Продавец утверждает, что средний вес пачки печенья составляет 200 г. Из партии извлечена выборка из 10 пачек. Вес каждой пачки составляет:\n",
    "```\n",
    "202, 203, 199, 197, 195, 201, 200, 204, 194, 190\n",
    "```\n",
    "Известно, что их веса распределены нормально. Верно ли утверждение продавца, если учитывать, что уровень значимости равен 1%? Найдите P-значение для данного теста и укажите его в качестве ответа."
   ]
  },
  {
   "cell_type": "code",
   "execution_count": 50,
   "id": "ff93ecbd",
   "metadata": {},
   "outputs": [
    {
     "name": "stdout",
     "output_type": "stream",
     "text": [
      "Среднее арифметичесое по выборке 198.5\n",
      "t-табличное: 3.25\n"
     ]
    }
   ],
   "source": [
    "m_0 = 200\n",
    "weights = [202, 203, 199, 197, 195, 201, 200, 204, 194, 190]\n",
    "alpha = 0.01\n",
    "m = sum(weights) / len(weights)\n",
    "print(f\"Среднее арифметичесое по выборке {m}\")\n",
    "t_t = 3.250\n",
    "print(f\"t-табличное: {t_t}\")"
   ]
  },
  {
   "cell_type": "markdown",
   "id": "26e1d0b6",
   "metadata": {},
   "source": [
    "Для начала нужно посчитать несмещенное среднее квадратическое отклонение"
   ]
  },
  {
   "cell_type": "code",
   "execution_count": 44,
   "id": "6aa5788a",
   "metadata": {},
   "outputs": [],
   "source": [
    "def get_std(weights, m_0):\n",
    "    s = 0\n",
    "    for x_t in weights:\n",
    "        s += (x_t - m_0)**2\n",
    "    s /= (len(weights) - 1)   \n",
    "    return sqrt(s)"
   ]
  },
  {
   "cell_type": "code",
   "execution_count": 51,
   "id": "b6b73a5e",
   "metadata": {},
   "outputs": [
    {
     "name": "stdout",
     "output_type": "stream",
     "text": [
      "t-расчетное: -1.0037244076773089\n"
     ]
    },
    {
     "data": {
      "text/plain": [
       "4.253724407677309"
      ]
     },
     "execution_count": 51,
     "metadata": {},
     "output_type": "execute_result"
    }
   ],
   "source": [
    "std = get_std(weights, m_0)\n",
    "t_r = (m - m_0) / (std / sqrt(len(weights)))\n",
    "print(f\"t-расчетное: {t_r}\")"
   ]
  },
  {
   "cell_type": "markdown",
   "id": "3d95cdb1",
   "metadata": {},
   "source": [
    "3) Дана выборка диаметров подшипников из примера 1 с занятия 5:\n",
    "```\n",
    "samples = [0.6603, 0.9466, 0.5968, 1.3792, 1.5481, 0.7515, 1.0681, 1.1134,\n",
    "           1.2088, 1.701 , 1.0282, 1.3579, 1.0191, 1.1784, 1.1168, 1.1372,\n",
    "           0.7273, 1.3958, 0.8665, 1.5112, 1.161 , 1.0232, 1.0865, 1.02  ]\n",
    "```\n",
    "Предполагая, что диаметры подшипников распределены нормально, проверьте гипотезу о том, что дисперсия случайной величины равна `0.0625` при уровне значимости `alpha = 0.05`. Что для этого нужно знать:\n",
    "1. Альтернативная гипотеза двухсторонняя.\n",
    "2. Статистика для теста: `H = (n - 1) * sample_variance / variance`, где `n` - число элементов в выборке, `sample_variance` - несмещённая оценка дисперсии, `variance` - утверждаемая нулевой гипотезой дисперсия.\n",
    "3. Эта статистика в предположении верности нулевой гипотезы имеет распределение хи-квадрат с параметром `df = n - 1`. Её квантили можно найти с помощью функции `scipy.stats.chi2.ppf`.\n",
    "\n",
    "В качестве ответа запишите 1, если нулевая гипотеза верна, и 0 иначе."
   ]
  },
  {
   "cell_type": "code",
   "execution_count": null,
   "id": "8ba39be8",
   "metadata": {},
   "outputs": [],
   "source": []
  }
 ],
 "metadata": {
  "kernelspec": {
   "display_name": "Python 3 (ipykernel)",
   "language": "python",
   "name": "python3"
  },
  "language_info": {
   "codemirror_mode": {
    "name": "ipython",
    "version": 3
   },
   "file_extension": ".py",
   "mimetype": "text/x-python",
   "name": "python",
   "nbconvert_exporter": "python",
   "pygments_lexer": "ipython3",
   "version": "3.9.2"
  }
 },
 "nbformat": 4,
 "nbformat_minor": 5
}
