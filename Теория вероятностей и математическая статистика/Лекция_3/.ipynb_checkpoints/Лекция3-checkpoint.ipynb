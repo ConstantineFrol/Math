{
 "cells": [
  {
   "cell_type": "markdown",
   "id": "16d40995",
   "metadata": {},
   "source": [
    "# Урок 3\n",
    "## Основы математической статистики. Количественные характеристики популяции. Графическое представление данных\n"
   ]
  },
  {
   "cell_type": "markdown",
   "id": "5aa76e6a",
   "metadata": {},
   "source": [
    "#### Задача 1\n",
    "\n",
    "Даны значения зарплат из выборки выпускников:\n",
    "100, 80, 75, 77, 89, 33, 45, 25, 65, 17, 30, 230, 24, 57, 55, 70, 75, 65, 84, 90, 150\n",
    " \n",
    "Используя только встроенные питоновские функции и структуры данных (т.е. без библиотек numpy, pandas и др.), посчитайте (несмещённое) среднее квадратичное отклонение для данной выборки.\n"
   ]
  },
  {
   "cell_type": "code",
   "execution_count": 27,
   "id": "938f1d8e",
   "metadata": {},
   "outputs": [],
   "source": [
    "def mean(x):\n",
    "    return sum(x) / len(x) \n",
    "\n",
    "def variance(x):\n",
    "    m = mean(x)\n",
    "    n = len(x)\n",
    "    x2 = []\n",
    "    for e in x:\n",
    "        x2.append((e - m)**2)\n",
    "\n",
    "    return sum(x2) / (n - 1) "
   ]
  },
  {
   "cell_type": "code",
   "execution_count": 30,
   "id": "a976312b",
   "metadata": {},
   "outputs": [
    {
     "data": {
      "text/plain": [
       "2241.8285714285716"
      ]
     },
     "execution_count": 30,
     "metadata": {},
     "output_type": "execute_result"
    }
   ],
   "source": [
    "samples = [100, 80, 75, 77, 89, 33, 45, 25, 65, 17, 30, 230, 24, 57, 55, 70, 75, 65, 84, 90, 150]\n",
    "variance(samples)"
   ]
  },
  {
   "cell_type": "markdown",
   "id": "810f1dd4",
   "metadata": {},
   "source": [
    "#### Задача 2\n",
    "\n",
    "Найдите число выбросов в выборке из задачи 1. Для определения выбросов используйте методику как при построении “усов” в boxplot, однако, как и в задаче 1, пользоваться можно только встроенными функциями и структурами данных.\n"
   ]
  },
  {
   "cell_type": "code",
   "execution_count": 36,
   "id": "856b2cae",
   "metadata": {},
   "outputs": [],
   "source": [
    "def quantile(x, order):\n",
    "    x = sorted(x)\n",
    "    n = len(x)\n",
    "    \n",
    "    n_left = int(n * order)\n",
    "    n_right= int(n * (1 - order))\n",
    "    \n",
    "    elements_count = n_left + n_right\n",
    "    if elements_count == n:\n",
    "        return (x[n_left - 1] + x[n_left]) / 2\n",
    "    elif elements_count == n - 1:        \n",
    "        return x[n_left]\n",
    "    return None"
   ]
  },
  {
   "cell_type": "code",
   "execution_count": 38,
   "id": "aa21b07e",
   "metadata": {},
   "outputs": [
    {
     "data": {
      "text/plain": [
       "45"
      ]
     },
     "execution_count": 38,
     "metadata": {},
     "output_type": "execute_result"
    }
   ],
   "source": [
    "q1 = quantile(samples, 0.25)\n",
    "q1"
   ]
  },
  {
   "cell_type": "code",
   "execution_count": 39,
   "id": "afb55bad",
   "metadata": {},
   "outputs": [
    {
     "data": {
      "text/plain": [
       "70"
      ]
     },
     "execution_count": 39,
     "metadata": {},
     "output_type": "execute_result"
    }
   ],
   "source": [
    "q2 = quantile(samples, 0.5)\n",
    "q2"
   ]
  },
  {
   "cell_type": "code",
   "execution_count": 40,
   "id": "6fe7dcbe",
   "metadata": {},
   "outputs": [
    {
     "data": {
      "text/plain": [
       "84"
      ]
     },
     "execution_count": 40,
     "metadata": {},
     "output_type": "execute_result"
    }
   ],
   "source": [
    "q3 = quantile(samples, 0.75)\n",
    "q3"
   ]
  },
  {
   "cell_type": "code",
   "execution_count": 41,
   "id": "1bc86c48",
   "metadata": {},
   "outputs": [
    {
     "data": {
      "text/plain": [
       "39"
      ]
     },
     "execution_count": 41,
     "metadata": {},
     "output_type": "execute_result"
    }
   ],
   "source": [
    "iqr = q3 - q1\n",
    "iqr"
   ]
  },
  {
   "cell_type": "code",
   "execution_count": 50,
   "id": "1bce6c09",
   "metadata": {},
   "outputs": [
    {
     "data": {
      "text/plain": [
       "[230, 150]"
      ]
     },
     "execution_count": 50,
     "metadata": {},
     "output_type": "execute_result"
    }
   ],
   "source": [
    "r1 = q1 - 1.5 * iqr\n",
    "r2 = q3 + 1.5 * iqr\n",
    "\n",
    "result = list(filter(lambda e: not(r1 < e < r2) , samples))\n",
    "result"
   ]
  },
  {
   "cell_type": "markdown",
   "id": "a60803f2",
   "metadata": {},
   "source": [
    "#### Задача 3\n",
    "\n",
    "В университет на факультет A поступило 100 человек, на факультет B - 90 человек и на факультет C - 45 человек. Вероятность того, что студент с факультета A сдаст первую сессию, равна 0.6. Для студента с факультета B эта вероятность равна 0.7, а для студента с факультета C - 0.8. Случайным образом выбирается студент, сдавший первую сессию. Какое событие наиболее вероятно:\n",
    "* студент учится на факультете A\n",
    "* студент учится на факультете B\n",
    "* студент учится на факультете C\n"
   ]
  },
  {
   "cell_type": "markdown",
   "id": "44dbcc2f",
   "metadata": {},
   "source": [
    "Вероятности сдачи сессии"
   ]
  },
  {
   "cell_type": "code",
   "execution_count": 8,
   "id": "bcc4d0e9",
   "metadata": {},
   "outputs": [],
   "source": [
    "h1 = 0.6\n",
    "h2 = 0.7\n",
    "h3 = 0.8"
   ]
  },
  {
   "cell_type": "markdown",
   "id": "f6ce2a45",
   "metadata": {},
   "source": [
    "Послупило на факультеты"
   ]
  },
  {
   "cell_type": "code",
   "execution_count": 9,
   "id": "4baf1c23",
   "metadata": {},
   "outputs": [],
   "source": [
    "a_count = 100\n",
    "b_count = 90\n",
    "c_count = 45"
   ]
  },
  {
   "cell_type": "markdown",
   "id": "de251639",
   "metadata": {},
   "source": [
    "Для того что бы посчитать полную вероятность сдачи сессии p_s необходимо посчитать условуную вероятность что студнент из факультета A, B или C"
   ]
  },
  {
   "cell_type": "code",
   "execution_count": 10,
   "id": "05e3e463",
   "metadata": {},
   "outputs": [],
   "source": [
    "p_a = a_count / (a_count + b_count + c_count)\n",
    "p_b = b_count / (a_count + b_count + c_count)\n",
    "p_c = c_count / (a_count + b_count + c_count)"
   ]
  },
  {
   "cell_type": "markdown",
   "id": "0ab9b318",
   "metadata": {},
   "source": [
    "Полная вероятность что студнет сдаст сессию"
   ]
  },
  {
   "cell_type": "code",
   "execution_count": 14,
   "id": "d814e471",
   "metadata": {},
   "outputs": [
    {
     "name": "stdout",
     "output_type": "stream",
     "text": [
      "С вероятностью 0.676595744680851 студент сдает сессию\n"
     ]
    }
   ],
   "source": [
    "p_s = p_a * h1 + p_b * h2 + p_c * h3\n",
    "print(f\"С вероятностью {p_s} студент сдает сессию\")"
   ]
  },
  {
   "cell_type": "markdown",
   "id": "b8b75102",
   "metadata": {},
   "source": [
    "Для того что бы оценить вероятности какой студент наиболее вероятнее сдал сессию, воспользуетмся формулей Байеса"
   ]
  },
  {
   "cell_type": "code",
   "execution_count": 23,
   "id": "8c1c72ba",
   "metadata": {},
   "outputs": [
    {
     "name": "stdout",
     "output_type": "stream",
     "text": [
      "Вероятность того что студнет сдал сессию из факультета A: 0.3773584905660377\n",
      "Вероятность того что студнет сдал сессию из факультета B: 0.39622641509433965\n",
      "Вероятность того что студнет сдал сессию из факультета C: 0.22641509433962265\n"
     ]
    }
   ],
   "source": [
    "pA =  p_a * h1 / p_s\n",
    "pB =  p_b * h2 / p_s\n",
    "pC =  p_c * h3 / p_s\n",
    "print(f\"Вероятность того что студнет сдал сессию из факультета A: {pA}\")\n",
    "print(f\"Вероятность того что студнет сдал сессию из факультета B: {pB}\")\n",
    "print(f\"Вероятность того что студнет сдал сессию из факультета C: {pC}\")"
   ]
  },
  {
   "cell_type": "markdown",
   "id": "c283ac6e",
   "metadata": {},
   "source": [
    "Наиболее вероятней что это студнет из факультета B"
   ]
  },
  {
   "cell_type": "code",
   "execution_count": null,
   "id": "f4b74953",
   "metadata": {},
   "outputs": [],
   "source": []
  }
 ],
 "metadata": {
  "kernelspec": {
   "display_name": "Python 3 (ipykernel)",
   "language": "python",
   "name": "python3"
  },
  "language_info": {
   "codemirror_mode": {
    "name": "ipython",
    "version": 3
   },
   "file_extension": ".py",
   "mimetype": "text/x-python",
   "name": "python",
   "nbconvert_exporter": "python",
   "pygments_lexer": "ipython3",
   "version": "3.9.2"
  }
 },
 "nbformat": 4,
 "nbformat_minor": 5
}
