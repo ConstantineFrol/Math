{
 "cells": [
  {
   "cell_type": "markdown",
   "id": "16d40995",
   "metadata": {},
   "source": [
    "# Урок 2\n",
    "## Дискретные случайные величины. Закон распределения вероятностей. Биноминальный закон распределения. Распределение Пуассона"
   ]
  },
  {
   "cell_type": "code",
   "execution_count": 70,
   "id": "ceb93bf1",
   "metadata": {},
   "outputs": [],
   "source": [
    "import numpy as np\n",
    "import pandas as pd\n",
    "from matplotlib import pyplot as plt\n",
    "plt.style.use('seaborn-whitegrid')\n",
    "%config InlineBackend.figure_formats = ['svg']\n",
    "\n",
    "def combinations(n, k):\n",
    "    \"\"\"Число сочетаний.\n",
    "    \"\"\"\n",
    "    \n",
    "    return np.math.factorial(n) // (np.math.factorial(k) * np.math.factorial(n - k))\n",
    "\n",
    "def get_bernoulli_probability(n, k, p):\n",
    "    \"\"\" Формула Бернулли\n",
    "    \"\"\"\n",
    "    return combinations(n, k) * (1 - p)**(n - k) * p**k"
   ]
  },
  {
   "cell_type": "markdown",
   "id": "f0fac222",
   "metadata": {},
   "source": [
    "Задачи 1 и 2\n",
    "\n",
    "Контрольная работа состоит из пяти вопросов. На каждый вопрос приведено четыре варианта ответа, один из которых правильный. Случайная величина X задаёт число правильных ответов при простом угадывании. Найдите математическое ожидание данной случайной величины. Найдите дисперсию случайной величины X.\n",
    "\n",
    "Подсказка: постройте закон распределения случайной величины X."
   ]
  },
  {
   "cell_type": "markdown",
   "id": "61b96d2c",
   "metadata": {},
   "source": [
    "Принимаемые значения данной случайной величины будут: $x_1 = 0$, $x_2 = 1$, $x_3 = 2$, $x_4 = 3$, $x_5 = 4$, $x_6 = 5$.\n",
    "\n",
    "Вероятность будем подичитывать по формуле Бернулли "
   ]
  },
  {
   "cell_type": "code",
   "execution_count": 76,
   "id": "59a175bc",
   "metadata": {},
   "outputs": [
    {
     "data": {
      "text/html": [
       "<div>\n",
       "<style scoped>\n",
       "    .dataframe tbody tr th:only-of-type {\n",
       "        vertical-align: middle;\n",
       "    }\n",
       "\n",
       "    .dataframe tbody tr th {\n",
       "        vertical-align: top;\n",
       "    }\n",
       "\n",
       "    .dataframe thead th {\n",
       "        text-align: right;\n",
       "    }\n",
       "</style>\n",
       "<table border=\"1\" class=\"dataframe\">\n",
       "  <thead>\n",
       "    <tr style=\"text-align: right;\">\n",
       "      <th></th>\n",
       "      <th>x</th>\n",
       "      <th>probability</th>\n",
       "    </tr>\n",
       "  </thead>\n",
       "  <tbody>\n",
       "    <tr>\n",
       "      <th>0</th>\n",
       "      <td>0</td>\n",
       "      <td>0.237305</td>\n",
       "    </tr>\n",
       "    <tr>\n",
       "      <th>1</th>\n",
       "      <td>1</td>\n",
       "      <td>0.395508</td>\n",
       "    </tr>\n",
       "    <tr>\n",
       "      <th>2</th>\n",
       "      <td>2</td>\n",
       "      <td>0.263672</td>\n",
       "    </tr>\n",
       "    <tr>\n",
       "      <th>3</th>\n",
       "      <td>3</td>\n",
       "      <td>0.087891</td>\n",
       "    </tr>\n",
       "    <tr>\n",
       "      <th>4</th>\n",
       "      <td>4</td>\n",
       "      <td>0.014648</td>\n",
       "    </tr>\n",
       "    <tr>\n",
       "      <th>5</th>\n",
       "      <td>5</td>\n",
       "      <td>0.000977</td>\n",
       "    </tr>\n",
       "  </tbody>\n",
       "</table>\n",
       "</div>"
      ],
      "text/plain": [
       "   x  probability\n",
       "0  0     0.237305\n",
       "1  1     0.395508\n",
       "2  2     0.263672\n",
       "3  3     0.087891\n",
       "4  4     0.014648\n",
       "5  5     0.000977"
      ]
     },
     "execution_count": 76,
     "metadata": {},
     "output_type": "execute_result"
    }
   ],
   "source": [
    "probability = 1 / 4\n",
    "x = [0, 1, 2, 3, 4, 5]\n",
    "n = len(x) - 1\n",
    "\n",
    "probabilities = []\n",
    "for i in x:\n",
    "    p = get_bernoulli_probability(n, i, probability)\n",
    "    probabilities.append(p)\n",
    "    \n",
    "z_probabilities = pd.DataFrame({'x': x, 'probability': probabilities})\n",
    "z_probabilities"
   ]
  },
  {
   "cell_type": "markdown",
   "id": "87380b78",
   "metadata": {},
   "source": [
    "Что бы посчитать мат.ожидание, нужно перемножить случайные события на верояности"
   ]
  },
  {
   "cell_type": "code",
   "execution_count": 80,
   "id": "5ade2589",
   "metadata": {},
   "outputs": [
    {
     "name": "stdout",
     "output_type": "stream",
     "text": [
      "Мат.ожидание: 1.25\n"
     ]
    }
   ],
   "source": [
    "m = (np.array(x) * np.array(probabilities)).sum()\n",
    "print(\"Мат.ожидание:\", m)"
   ]
  },
  {
   "cell_type": "code",
   "execution_count": 85,
   "id": "847839d5",
   "metadata": {},
   "outputs": [
    {
     "name": "stdout",
     "output_type": "stream",
     "text": [
      "Дисперсия: 0.9375\n"
     ]
    }
   ],
   "source": [
    "d = m * (1 - probability)\n",
    "print(\"Дисперсия:\", d)"
   ]
  },
  {
   "cell_type": "markdown",
   "id": "56b92ef3",
   "metadata": {},
   "source": [
    "Задача 3\n",
    "\n",
    "Пользователь получает в среднем 10 писем со спамом на свой почтовый ящик за сутки. Найти число N, такое, что с вероятностью 0.95 пользователь получит не более N писем со спамом за текущий день."
   ]
  },
  {
   "cell_type": "markdown",
   "id": "cb6a8c5f",
   "metadata": {},
   "source": [
    "Задача решается через распределение Пуассона"
   ]
  },
  {
   "cell_type": "code",
   "execution_count": 86,
   "id": "638473b9",
   "metadata": {},
   "outputs": [],
   "source": [
    "def poisson_proba(k: int, lambda_: float) -> float:\n",
    "    \"\"\"Формула Пуассона.\n",
    "    \"\"\"\n",
    "    \n",
    "    return (lambda_ ** k) * (np.exp(-lambda_)) / np.math.factorial(k)"
   ]
  },
  {
   "cell_type": "code",
   "execution_count": 100,
   "id": "3dfb95da",
   "metadata": {},
   "outputs": [
    {
     "data": {
      "text/plain": [
       "0.9512595966960214"
      ]
     },
     "execution_count": 100,
     "metadata": {},
     "output_type": "execute_result"
    }
   ],
   "source": [
    "sum(poisson_proba(k=i, lambda_=10) for i in range(16))"
   ]
  },
  {
   "cell_type": "markdown",
   "id": "2de8e2f8",
   "metadata": {},
   "source": [
    "Ответ: С вероятностью 0.95 пользователь получит не более 15-ти писем со спамом в сутки"
   ]
  },
  {
   "cell_type": "markdown",
   "id": "4971ceed",
   "metadata": {},
   "source": [
    "Задача 4\n",
    "\n",
    "Производятся выстрелы по мишени. Вероятность попадания в мишень при одном выстреле равна 0.01. Сколько выстрелов нужно сделать чтобы быть уверенным с вероятностью 0.9, что хотя бы 6 раз будет совершено попадание?\n",
    "\n",
    "Подсказка: 1) \"Вероятность попасть k раз при n выстрелах\" - на какое распределение это похоже? 2) А если нам нужна вероятность P(X >= k), а не P(X = k)? 3) Здесь предстоит немножко покодить."
   ]
  },
  {
   "cell_type": "markdown",
   "id": "99b7ef6e",
   "metadata": {},
   "source": [
    "Воспользуюсь формулой Бернулли и сложением вероятностей что бы узнать сколько выстрелов нужно сделать что бы попасть 6 раз с вероятностью 0.9"
   ]
  },
  {
   "cell_type": "code",
   "execution_count": 147,
   "id": "9e577960",
   "metadata": {},
   "outputs": [
    {
     "name": "stdout",
     "output_type": "stream",
     "text": [
      "Стрелок должен сделать 230 выстрелов что бы попасть 6 раз с вероятностью 0.9\n"
     ]
    }
   ],
   "source": [
    "probability = 0.01\n",
    "hits_count = 6\n",
    "\n",
    "P = 0\n",
    "N = 0\n",
    "for n in range(hits_count, 1000):\n",
    "    p = get_bernoulli_probability(n, hits_count, probability)\n",
    "    P += p\n",
    "    if (P >= 0.9):\n",
    "        N = n\n",
    "        break\n",
    "\n",
    "print(f\"Стрелок должен сделать {N} выстрелов что бы попасть {hits_count} раз с вероятностью 0.9\")       "
   ]
  },
  {
   "cell_type": "code",
   "execution_count": null,
   "id": "d8f30ac7",
   "metadata": {},
   "outputs": [],
   "source": []
  }
 ],
 "metadata": {
  "kernelspec": {
   "display_name": "Python 3 (ipykernel)",
   "language": "python",
   "name": "python3"
  },
  "language_info": {
   "codemirror_mode": {
    "name": "ipython",
    "version": 3
   },
   "file_extension": ".py",
   "mimetype": "text/x-python",
   "name": "python",
   "nbconvert_exporter": "python",
   "pygments_lexer": "ipython3",
   "version": "3.9.2"
  }
 },
 "nbformat": 4,
 "nbformat_minor": 5
}
