{
 "cells": [
  {
   "cell_type": "markdown",
   "id": "1cf068ef",
   "metadata": {},
   "source": [
    "# Тема “Множество”\n"
   ]
  },
  {
   "cell_type": "markdown",
   "id": "b80f370c",
   "metadata": {},
   "source": [
    "1) Даны три множества a,b и с. Необходимо выполнить все изученные виды бинарных операций над всеми комбинациями множеств.\n"
   ]
  },
  {
   "cell_type": "markdown",
   "id": "c540467a",
   "metadata": {},
   "source": [
    "Объединение"
   ]
  },
  {
   "cell_type": "code",
   "execution_count": 47,
   "id": "b28351b5",
   "metadata": {},
   "outputs": [
    {
     "data": {
      "text/plain": [
       "{2, 5, 6, 8, 14, 15, 17, 19, 23, 30, 33, 55, 56, 58}"
      ]
     },
     "execution_count": 47,
     "metadata": {},
     "output_type": "execute_result"
    }
   ],
   "source": [
    "a = {5, 8, 19, 23, 30}\n",
    "b = {2, 6, 14, 15, 17}\n",
    "c = {23, 33, 55, 56, 58}\n",
    "\n",
    "a.union(b).union(c)"
   ]
  },
  {
   "cell_type": "markdown",
   "id": "bcc92db6",
   "metadata": {},
   "source": [
    "Пересечение"
   ]
  },
  {
   "cell_type": "code",
   "execution_count": 49,
   "id": "7ed8a0f1",
   "metadata": {},
   "outputs": [
    {
     "data": {
      "text/plain": [
       "{8, 23}"
      ]
     },
     "execution_count": 49,
     "metadata": {},
     "output_type": "execute_result"
    }
   ],
   "source": [
    "a = {5, 8, 19, 23, 30}\n",
    "b = {2, 6, 8, 15, 23}\n",
    "c = {8, 15, 23, 56, 58}\n",
    "\n",
    "\n",
    "a.intersection(b).intersection(c)"
   ]
  },
  {
   "cell_type": "code",
   "execution_count": null,
   "id": "145acfe5",
   "metadata": {},
   "outputs": [],
   "source": [
    "Разность"
   ]
  },
  {
   "cell_type": "code",
   "execution_count": 50,
   "id": "1523d342",
   "metadata": {},
   "outputs": [
    {
     "data": {
      "text/plain": [
       "{5, 19, 30}"
      ]
     },
     "execution_count": 50,
     "metadata": {},
     "output_type": "execute_result"
    }
   ],
   "source": [
    "a = {5, 8, 19, 23, 30}\n",
    "b = {2, 6, 8, 15, 23}\n",
    "c = {8, 15, 23, 56, 58}\n",
    "\n",
    "a.difference(b).difference(c)"
   ]
  },
  {
   "cell_type": "markdown",
   "id": "701fa294",
   "metadata": {},
   "source": [
    "Cимметрическая разность\n"
   ]
  },
  {
   "cell_type": "code",
   "execution_count": 51,
   "id": "89c40629",
   "metadata": {},
   "outputs": [
    {
     "data": {
      "text/plain": [
       "{2, 5, 6, 8, 19, 23, 30, 56, 58}"
      ]
     },
     "execution_count": 51,
     "metadata": {},
     "output_type": "execute_result"
    }
   ],
   "source": [
    "a = {5, 8, 19, 23, 30}\n",
    "b = {2, 6, 8, 15, 23}\n",
    "c = {8, 15, 23, 56, 58}\n",
    "\n",
    "a.symmetric_difference(b).symmetric_difference(c)"
   ]
  },
  {
   "cell_type": "code",
   "execution_count": null,
   "id": "56270a4b",
   "metadata": {},
   "outputs": [],
   "source": []
  }
 ],
 "metadata": {
  "kernelspec": {
   "display_name": "Python 3 (ipykernel)",
   "language": "python",
   "name": "python3"
  },
  "language_info": {
   "codemirror_mode": {
    "name": "ipython",
    "version": 3
   },
   "file_extension": ".py",
   "mimetype": "text/x-python",
   "name": "python",
   "nbconvert_exporter": "python",
   "pygments_lexer": "ipython3",
   "version": "3.9.2"
  }
 },
 "nbformat": 4,
 "nbformat_minor": 5
}
