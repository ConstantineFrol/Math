{
 "cells": [
  {
   "cell_type": "markdown",
   "id": "d6ba7d3a",
   "metadata": {},
   "source": [
    "# Графики на плоскости"
   ]
  },
  {
   "cell_type": "markdown",
   "id": "a82bdc21",
   "metadata": {},
   "source": [
    "#### 1. Задание (в программе)\n",
    "Нарисуйте график функции:   для некоторых (2-3 различных) значений параметров k, a, b\n"
   ]
  },
  {
   "cell_type": "markdown",
   "id": "109d3492",
   "metadata": {},
   "source": [
    "#### 2. Задание \n",
    "Докажите, что при ортогональном преобразовании сохраняется расстояние между точками.  \n"
   ]
  },
  {
   "cell_type": "markdown",
   "id": "6c629ea5",
   "metadata": {},
   "source": [
    "#### 3. Задание (в программе)\n",
    "* 1) Напишите код, который будет переводить полярные координаты в декартовы.\n",
    "* 2) Напишите код, который будет рисовать график окружности в полярных координатах.\n",
    "* 3) Напишите код, который будет рисовать график отрезка прямой линии в полярных координатах.\n"
   ]
  },
  {
   "cell_type": "markdown",
   "id": "6d66817b",
   "metadata": {},
   "source": [
    "#### 4. Задание (в программе)\n",
    "exp(x) + x∙(1 – y) = 1  \n",
    "y = x2 – 1"
   ]
  },
  {
   "cell_type": "markdown",
   "id": "d651b115",
   "metadata": {},
   "source": [
    "Решите систему уравнений и неравенств:\n",
    "y = x2 – 1\n",
    "exp(x) + x∙(1 – y)  - 1 > 0\n"
   ]
  },
  {
   "cell_type": "code",
   "execution_count": null,
   "id": "e390924c",
   "metadata": {},
   "outputs": [],
   "source": []
  }
 ],
 "metadata": {
  "kernelspec": {
   "display_name": "Python 3 (ipykernel)",
   "language": "python",
   "name": "python3"
  },
  "language_info": {
   "codemirror_mode": {
    "name": "ipython",
    "version": 3
   },
   "file_extension": ".py",
   "mimetype": "text/x-python",
   "name": "python",
   "nbconvert_exporter": "python",
   "pygments_lexer": "ipython3",
   "version": "3.9.2"
  }
 },
 "nbformat": 4,
 "nbformat_minor": 5
}
