{
 "cells": [
  {
   "cell_type": "markdown",
   "id": "0cb948af",
   "metadata": {},
   "source": [
    "# Введение в высшую математику"
   ]
  },
  {
   "cell_type": "markdown",
   "id": "8127343e",
   "metadata": {},
   "source": [
    "#### Практическое задание №5"
   ]
  },
  {
   "cell_type": "code",
   "execution_count": 1,
   "id": "c8248ced",
   "metadata": {},
   "outputs": [],
   "source": [
    "import numpy as np"
   ]
  },
  {
   "cell_type": "markdown",
   "id": "f8535e2c",
   "metadata": {},
   "source": [
    "#### 5.1.\n",
    "Вектор – это частный случай матрицы 1хN и Nх1. Повторите материал для векторов, уделяя особое внимание умножению A∙B."
   ]
  },
  {
   "cell_type": "code",
   "execution_count": 31,
   "id": "b123d197",
   "metadata": {},
   "outputs": [],
   "source": [
    "A = np.array([1, 2, 3])\n",
    "B = np.array([4, 5, 6])"
   ]
  },
  {
   "cell_type": "code",
   "execution_count": 32,
   "id": "3ddd6a58",
   "metadata": {},
   "outputs": [
    {
     "data": {
      "text/plain": [
       "array([5, 7, 9])"
      ]
     },
     "execution_count": 32,
     "metadata": {},
     "output_type": "execute_result"
    }
   ],
   "source": [
    "C = A + B\n",
    "C"
   ]
  },
  {
   "cell_type": "code",
   "execution_count": 33,
   "id": "3f160f66",
   "metadata": {},
   "outputs": [
    {
     "data": {
      "text/plain": [
       "32"
      ]
     },
     "execution_count": 33,
     "metadata": {},
     "output_type": "execute_result"
    }
   ],
   "source": [
    "C = np.dot(A, B)\n",
    "C"
   ]
  },
  {
   "cell_type": "code",
   "execution_count": 35,
   "id": "a63bc192",
   "metadata": {},
   "outputs": [
    {
     "data": {
      "text/plain": [
       "array([ 4, 10, 18])"
      ]
     },
     "execution_count": 35,
     "metadata": {},
     "output_type": "execute_result"
    }
   ],
   "source": [
    "C = A * B\n",
    "C"
   ]
  },
  {
   "cell_type": "code",
   "execution_count": 34,
   "id": "cec3491d",
   "metadata": {},
   "outputs": [
    {
     "data": {
      "text/plain": [
       "array([3, 6, 9])"
      ]
     },
     "execution_count": 34,
     "metadata": {},
     "output_type": "execute_result"
    }
   ],
   "source": [
    "C = A * 3\n",
    "C"
   ]
  },
  {
   "cell_type": "code",
   "execution_count": null,
   "id": "ffdafdf4",
   "metadata": {},
   "outputs": [],
   "source": []
  },
  {
   "cell_type": "code",
   "execution_count": null,
   "id": "868a5612",
   "metadata": {},
   "outputs": [],
   "source": []
  }
 ],
 "metadata": {
  "kernelspec": {
   "display_name": "Python 3 (ipykernel)",
   "language": "python",
   "name": "python3"
  },
  "language_info": {
   "codemirror_mode": {
    "name": "ipython",
    "version": 3
   },
   "file_extension": ".py",
   "mimetype": "text/x-python",
   "name": "python",
   "nbconvert_exporter": "python",
   "pygments_lexer": "ipython3",
   "version": "3.9.2"
  }
 },
 "nbformat": 4,
 "nbformat_minor": 5
}
