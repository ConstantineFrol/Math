{
 "cells": [
  {
   "cell_type": "markdown",
   "id": "e87818d2",
   "metadata": {},
   "source": [
    "# Элементы теории вероятностей"
   ]
  },
  {
   "cell_type": "code",
   "execution_count": 1,
   "id": "5996d917",
   "metadata": {},
   "outputs": [],
   "source": [
    "import numpy as np\n",
    "import matplotlib.pyplot as plt\n",
    "import math\n",
    "import itertools"
   ]
  },
  {
   "cell_type": "markdown",
   "id": "f3c414cb",
   "metadata": {},
   "source": [
    "#### 1. Напишите код, моделирующий выпадение поля в рулетке (с учетом поля зеро).\n"
   ]
  },
  {
   "cell_type": "code",
   "execution_count": 2,
   "id": "8c236e42",
   "metadata": {},
   "outputs": [
    {
     "name": "stdout",
     "output_type": "stream",
     "text": [
      "Число: 31\n"
     ]
    }
   ],
   "source": [
    "val = np.random.randint(0, 37)\n",
    "print(\"Число:\", val)"
   ]
  },
  {
   "cell_type": "markdown",
   "id": "73cfab48",
   "metadata": {},
   "source": [
    "#### 2.1 Напишите код, проверяющий любую из теорем сложения или умножения вероятности на примере рулетки или подбрасывания монетки.\n"
   ]
  },
  {
   "cell_type": "code",
   "execution_count": 3,
   "id": "7f792e04",
   "metadata": {},
   "outputs": [],
   "source": [
    "def calculate_multiplication_probabilities(max_value, values_count):\n",
    "    probability = 1\n",
    "    for _ in range(0, values_count):\n",
    "        probability *= 1/max_value\n",
    "\n",
    "    return probability\n",
    "        "
   ]
  },
  {
   "cell_type": "code",
   "execution_count": 4,
   "id": "cf6de6b0",
   "metadata": {},
   "outputs": [
    {
     "data": {
      "text/plain": [
       "0.0007304601899196495"
      ]
     },
     "execution_count": 4,
     "metadata": {},
     "output_type": "execute_result"
    }
   ],
   "source": [
    "# Высчитываем шанс на выпадения двух Zero на двух рулетках\n",
    "val = calculate_multiplication_probabilities(37, 2)\n",
    "val"
   ]
  },
  {
   "cell_type": "markdown",
   "id": "08d02ee7",
   "metadata": {},
   "source": [
    "#### 2.2 Сгенерируйте десять выборок случайных чисел х0, …, х9. и постройте гистограмму распределения случайной суммы  +х0+ …+ х 9"
   ]
  },
  {
   "cell_type": "code",
   "execution_count": 5,
   "id": "76e3227b",
   "metadata": {},
   "outputs": [
    {
     "data": {
      "image/png": "[encoded data removed]",
      "text/plain": [
       "<Figure size 432x288 with 1 Axes>"
      ]
     },
     "metadata": {
      "needs_background": "light"
     },
     "output_type": "display_data"
    }
   ],
   "source": [
    "x0 = np.random.rand(100)\n",
    "x1 = np.random.rand(100)\n",
    "x2 = np.random.rand(100)\n",
    "x3 = np.random.rand(100)\n",
    "x4 = np.random.rand(100)\n",
    "x5 = np.random.rand(100)\n",
    "x6 = np.random.rand(100)\n",
    "x7 = np.random.rand(100)\n",
    "x8 = np.random.rand(100)\n",
    "x9 = np.random.rand(100)\n",
    "\n",
    "plt.hist(x0)\n",
    "plt.hist(x1)\n",
    "plt.hist(x2)\n",
    "plt.hist(x3)\n",
    "plt.hist(x4)\n",
    "plt.hist(x5)\n",
    "plt.hist(x6)\n",
    "plt.hist(x7)\n",
    "plt.hist(x8)\n",
    "plt.hist(x9)\n",
    "plt.show()"
   ]
  },
  {
   "cell_type": "markdown",
   "id": "a1c99d47",
   "metadata": {},
   "source": [
    "#### 3.1 Дополните код Монте-Карло последовательности независимых испытаний расчетом соответствующих вероятностей (через биномиальное распределение)  и сравните результаты."
   ]
  },
  {
   "cell_type": "code",
   "execution_count": 6,
   "id": "9375749c",
   "metadata": {},
   "outputs": [
    {
     "name": "stdout",
     "output_type": "stream",
     "text": [
      "k=3, n=4, вероятность=0.75\n",
      "вероятность=0.375\n",
      "0000\n",
      "0001\n",
      "0010\n",
      "0011\n",
      "0100\n",
      "0101\n",
      "0110\n",
      "0111\n",
      "1000\n",
      "1001\n",
      "1010\n",
      "1011\n",
      "1100\n",
      "1101\n",
      "1110\n",
      "1111\n"
     ]
    },
    {
     "name": "stderr",
     "output_type": "stream",
     "text": [
      "C:\\Users\\User\\AppData\\Local\\Temp/ipykernel_14048/114883616.py:17: DeprecationWarning: Using factorial() with floats is deprecated\n",
      "  return math.factorial(n)/(math.factorial(k) * math.factorial(n-k)) * (1 / math.pow(2, n))\n"
     ]
    }
   ],
   "source": [
    "k, n = 0, 4\n",
    "a = np.random.randint(0, 2, n)\n",
    "b = np.random.randint(0, 2, n)\n",
    "c = np.random.randint(0, 2, n)\n",
    "d = np.random.randint(0, 2, n)\n",
    "\n",
    "x = a + b + c + d\n",
    "for i in range(0, n):\n",
    "    if x[i] == 2:\n",
    "        k += 1\n",
    "        \n",
    "print(f\"k={k}, n={n}, вероятность={k/n}\")\n",
    "\n",
    "# В нашем случае расчитаем вероятность равного выпадения орла и решки \n",
    "k = n / 2\n",
    "def calculate_p(k, n):\n",
    "    return math.factorial(n)/(math.factorial(k) * math.factorial(n-k)) * (1 / math.pow(2, n))\n",
    "\n",
    "print(f\"вероятность={calculate_p(k, n)}\")\n",
    "\n",
    "for p in itertools.product(\"01\", repeat=4):\n",
    "    print(\"\".join(p))"
   ]
  },
  {
   "cell_type": "markdown",
   "id": "fe5a960a",
   "metadata": {},
   "source": [
    "#### 3.2 Повторите расчеты биномиальных коэффициентов и вероятностей k успехов в последовательности из n независимых испытаний, взяв другие значения n и k."
   ]
  },
  {
   "cell_type": "code",
   "execution_count": 25,
   "id": "917f5d38",
   "metadata": {},
   "outputs": [
    {
     "name": "stdout",
     "output_type": "stream",
     "text": [
      "вероятность=0.0625\n"
     ]
    }
   ],
   "source": [
    "# Для примера возьмем ту же монетку, и расчитаем вероятность \n",
    "# выпадения всех орлов если бросим монетку 4-раза\n",
    "\n",
    "print(f\"вероятность={calculate_p(4, 4)}\")"
   ]
  },
  {
   "cell_type": "code",
   "execution_count": null,
   "id": "7d55c5a4",
   "metadata": {},
   "outputs": [],
   "source": []
  }
 ],
 "metadata": {
  "kernelspec": {
   "display_name": "Python 3 (ipykernel)",
   "language": "python",
   "name": "python3"
  },
  "language_info": {
   "codemirror_mode": {
    "name": "ipython",
    "version": 3
   },
   "file_extension": ".py",
   "mimetype": "text/x-python",
   "name": "python",
   "nbconvert_exporter": "python",
   "pygments_lexer": "ipython3",
   "version": "3.9.2"
  }
 },
 "nbformat": 4,
 "nbformat_minor": 5
}
